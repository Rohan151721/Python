{
  "nbformat": 4,
  "nbformat_minor": 0,
  "metadata": {
    "colab": {
      "provenance": [],
      "authorship_tag": "ABX9TyMm4+LjEtTIVwVl4VD/63lp",
      "include_colab_link": true
    },
    "kernelspec": {
      "name": "python3",
      "display_name": "Python 3"
    },
    "language_info": {
      "name": "python"
    }
  },
  "cells": [
    {
      "cell_type": "markdown",
      "metadata": {
        "id": "view-in-github",
        "colab_type": "text"
      },
      "source": [
        "<a href=\"https://colab.research.google.com/github/Rohan151721/Python/blob/main/packages.ipynb\" target=\"_parent\"><img src=\"https://colab.research.google.com/assets/colab-badge.svg\" alt=\"Open In Colab\"/></a>"
      ]
    },
    {
      "cell_type": "code",
      "execution_count": 1,
      "metadata": {
        "id": "vXsbu1huFM-x"
      },
      "outputs": [],
      "source": [
        "import pandas"
      ]
    },
    {
      "cell_type": "code",
      "source": [
        "import math\n",
        "math.sqrt(16)"
      ],
      "metadata": {
        "colab": {
          "base_uri": "https://localhost:8080/"
        },
        "id": "-0RmctqHFiaM",
        "outputId": "3be0d7db-2b8f-4a2c-e274-b5fca0bb3280"
      },
      "execution_count": 3,
      "outputs": [
        {
          "output_type": "execute_result",
          "data": {
            "text/plain": [
              "4.0"
            ]
          },
          "metadata": {},
          "execution_count": 3
        }
      ]
    },
    {
      "cell_type": "code",
      "source": [
        "from math import sqrt\n",
        "print(sqrt(25))"
      ],
      "metadata": {
        "colab": {
          "base_uri": "https://localhost:8080/"
        },
        "id": "RbDFZ8A4GeTk",
        "outputId": "5a995e66-6de9-4603-8bfe-a094ebfbe328"
      },
      "execution_count": 4,
      "outputs": [
        {
          "output_type": "stream",
          "name": "stdout",
          "text": [
            "5.0\n"
          ]
        }
      ]
    },
    {
      "cell_type": "code",
      "source": [
        "from math import *\n",
        "print(sqrt(64))\n",
        "print(pi)"
      ],
      "metadata": {
        "colab": {
          "base_uri": "https://localhost:8080/"
        },
        "id": "9_6xdJffG8_J",
        "outputId": "06722f36-d471-40dc-aa1f-a63ec871622e"
      },
      "execution_count": 5,
      "outputs": [
        {
          "output_type": "stream",
          "name": "stdout",
          "text": [
            "8.0\n",
            "3.141592653589793\n"
          ]
        }
      ]
    },
    {
      "cell_type": "code",
      "source": [
        "##   STANDARD LIBRARY OVERVIEW\n",
        "\n",
        "import array\n",
        "a=array.array('i',[1,2,3,4,5])\n",
        "\n",
        "for i in a:\n",
        "  print(i,end=' ')"
      ],
      "metadata": {
        "colab": {
          "base_uri": "https://localhost:8080/"
        },
        "id": "SSn2cGk1HTMO",
        "outputId": "7e5bd690-7ce1-4f0f-9564-40d9bf040452"
      },
      "execution_count": 9,
      "outputs": [
        {
          "output_type": "stream",
          "name": "stdout",
          "text": [
            "1 2 3 4 5 "
          ]
        }
      ]
    },
    {
      "cell_type": "code",
      "source": [
        "import random\n",
        "print(random.random())\n",
        "print(random.randint(1,10))\n",
        "print(random.choice(['apple','mango','banana','cheery']))"
      ],
      "metadata": {
        "colab": {
          "base_uri": "https://localhost:8080/"
        },
        "id": "hqbwqLDHIP_1",
        "outputId": "32f3c3d6-b2af-4b21-f53d-264427db54cf"
      },
      "execution_count": 15,
      "outputs": [
        {
          "output_type": "stream",
          "name": "stdout",
          "text": [
            "0.5148502725053844\n",
            "9\n",
            "banana\n"
          ]
        }
      ]
    },
    {
      "cell_type": "code",
      "source": [
        "# DATA SERIALIZATION\n",
        "import json\n",
        "data={'name':'Rohan','age':25,'gender':'Male'}\n",
        "json_data=json.dumps(data)\n",
        "print(json_data)\n",
        "print(type(json_data))\n",
        "\n",
        "parsed_data=json.loads(json_data)\n",
        "print(parsed_data)\n",
        "print(type(parsed_data))"
      ],
      "metadata": {
        "colab": {
          "base_uri": "https://localhost:8080/"
        },
        "id": "CdWqIqrRJAHz",
        "outputId": "7c2d9175-7900-4424-ed38-c2805ff02684"
      },
      "execution_count": 18,
      "outputs": [
        {
          "output_type": "stream",
          "name": "stdout",
          "text": [
            "{\"name\": \"Rohan\", \"age\": 25, \"gender\": \"Male\"}\n",
            "<class 'str'>\n",
            "{'name': 'Rohan', 'age': 25, 'gender': 'Male'}\n",
            "<class 'dict'>\n"
          ]
        }
      ]
    },
    {
      "cell_type": "code",
      "source": [
        "# CSV FILE READ AND WRITE\n",
        "import csv\n",
        "\n",
        "with open('data.csv',mode='w',newline='') as file:\n",
        "  writer=csv.writer(file)\n",
        "  writer.writerow(['name','age'])\n",
        "  writer.writerow(['Krish',32])\n",
        "\n",
        "with open('data.csv',mode='r') as file:\n",
        "  reader=csv.reader(file)\n",
        "  for row in reader:\n",
        "    print(row)"
      ],
      "metadata": {
        "colab": {
          "base_uri": "https://localhost:8080/"
        },
        "id": "ccUXGfWnKdFI",
        "outputId": "79038c91-da4a-49d5-95f1-f9e03bb79755"
      },
      "execution_count": 26,
      "outputs": [
        {
          "output_type": "stream",
          "name": "stdout",
          "text": [
            "['name', 'age']\n",
            "['Krish', '32']\n"
          ]
        }
      ]
    },
    {
      "cell_type": "code",
      "source": [
        "##DATETIME\n",
        "from datetime import datetime,timedelta\n",
        "\n",
        "now= datetime.now()\n",
        "print(now)\n",
        "\n",
        "yesterday = now-timedelta(days=1)\n",
        "print(yesterday)\n",
        "\n",
        "tomorrow = now+timedelta(days=1)\n",
        "print(tomorrow)"
      ],
      "metadata": {
        "colab": {
          "base_uri": "https://localhost:8080/"
        },
        "id": "28ASpDWRLsas",
        "outputId": "996a8984-f9c0-4ae5-9285-f06edf0130a8"
      },
      "execution_count": 27,
      "outputs": [
        {
          "output_type": "stream",
          "name": "stdout",
          "text": [
            "2025-04-09 06:26:37.499018\n",
            "2025-04-08 06:26:37.499018\n",
            "2025-04-10 06:26:37.499018\n"
          ]
        }
      ]
    },
    {
      "cell_type": "code",
      "source": [
        "#TIME\n",
        "import time\n",
        "print(time.time())\n",
        "print(time.localtime(time.time()))\n",
        "time.sleep(2)\n",
        "print(time.time())"
      ],
      "metadata": {
        "colab": {
          "base_uri": "https://localhost:8080/"
        },
        "id": "UI47g7aJOqp8",
        "outputId": "594a5e0c-b7e5-4b16-ae2d-65eb536ba683"
      },
      "execution_count": 28,
      "outputs": [
        {
          "output_type": "stream",
          "name": "stdout",
          "text": [
            "1744180339.7145154\n",
            "time.struct_time(tm_year=2025, tm_mon=4, tm_mday=9, tm_hour=6, tm_min=32, tm_sec=19, tm_wday=2, tm_yday=99, tm_isdst=0)\n",
            "1744180341.7151105\n"
          ]
        }
      ]
    }
  ]
}